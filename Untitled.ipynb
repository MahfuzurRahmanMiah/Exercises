{
 "cells": [
  {
   "cell_type": "markdown",
   "metadata": {},
   "source": [
    "Telephone digits to letters\n",
    "Python Data Structures Arrays\n",
    "Suppose you're given a portion of a phone number. Each digit corresponds to letters (as shown below). Using python, write code to return all possible combinations the given number could represent.\n",
    "\n",
    "Telephone digits, for reference:\n",
    "\n",
    "For example:\n",
    "Input: \"24\"\n",
    "Output: \n",
    "['a', 'g']\n",
    "['a', 'h']\n",
    "['a', 'i']\n",
    "['b', 'g']\n",
    "['b', 'h']\n",
    "['b', 'i']\n",
    "['c', 'g']\n",
    "['c', 'h']\n",
    "['c', 'i']\n"
   ]
  },
  {
   "cell_type": "code",
   "execution_count": 42,
   "metadata": {},
   "outputs": [],
   "source": [
    "# phonenum in function alphanum is string consisting of only integers\n",
    "# alphanum takes a portion of a phone number and returns all possible letter combinations\n",
    "def alphanum (phonenum):\n",
    "    num_dict = { \n",
    "                \"2\": \"abc\", \n",
    "                \"3\": \"def\",\n",
    "                \"4\": \"ghi\",\n",
    "                \"5\": \"jkl\",\n",
    "                \"6\": \"mno\",\n",
    "                \"7\": \"pqrs\",\n",
    "                \"8\": \"tuv\",\n",
    "                \"9\": \"wxyz\",\n",
    "               }\n",
    "    for num in phonenum:\n",
    "        letterholder = num_dict.get(num)\n",
    "        letterarray = []\n",
    "        for x in letterholder:\n",
    "            letterarray+= recursiveloop(x)\n",
    "            print (letterarray)\n",
    "            return letterarray\n",
    "\n",
    "def recursiveloop (array):\n",
    "    if len(array) == 1:\n",
    "        return array\n",
    "    else:\n",
    "        for i in array:        recursiveloop(i)\n",
    "    "
   ]
  },
  {
   "cell_type": "code",
   "execution_count": 43,
   "metadata": {},
   "outputs": [
    {
     "name": "stdout",
     "output_type": "stream",
     "text": [
      "[None]\n",
      "[None, None]\n"
     ]
    },
    {
     "data": {
      "text/plain": [
       "[None, None]"
      ]
     },
     "execution_count": 43,
     "metadata": {},
     "output_type": "execute_result"
    }
   ],
   "source": [
    "alphanum(\"25\")"
   ]
  },
  {
   "cell_type": "code",
   "execution_count": 74,
   "metadata": {},
   "outputs": [],
   "source": [
    "digit_map = {\n",
    "    '1': '',\n",
    "    '2': 'abc',\n",
    "    '3': 'def',\n",
    "    '4': 'ghi',\n",
    "    '5': 'jkl',\n",
    "    '6': 'mno',\n",
    "    '7': 'pqrs',\n",
    "    '8': 'tuv',\n",
    "    '9': 'wxyz',\n",
    "}\n",
    "\n",
    "def word_numbers(input):\n",
    "    input = str(input)\n",
    "    ret = ['']\n",
    "    for char in input:\n",
    "        letters = digit_map.get(char)\n",
    "        ret = [y + letter for y in ret for letter in letters]\n",
    "        print (ret)\n",
    "    return ret\n"
   ]
  },
  {
   "cell_type": "code",
   "execution_count": 75,
   "metadata": {},
   "outputs": [
    {
     "name": "stdout",
     "output_type": "stream",
     "text": [
      "['a', 'b', 'c']\n",
      "['ag', 'ah', 'ai', 'bg', 'bh', 'bi', 'cg', 'ch', 'ci']\n"
     ]
    },
    {
     "data": {
      "text/plain": [
       "['ag', 'ah', 'ai', 'bg', 'bh', 'bi', 'cg', 'ch', 'ci']"
      ]
     },
     "execution_count": 75,
     "metadata": {},
     "output_type": "execute_result"
    }
   ],
   "source": [
    "word_numbers(24)"
   ]
  },
  {
   "cell_type": "code",
   "execution_count": 76,
   "metadata": {},
   "outputs": [],
   "source": [
    "def word_numbers2(input):\n",
    "    input = str(input)\n",
    "    ret = ['']\n",
    "    for char in input:\n",
    "        letters = digit_map.get(char, '')\n",
    "        #for letter in letters:\n",
    "        #    for y in ret:\n",
    "        #        ret = [y + letter]\n",
    "        ret = [y + letter for y in ret for letter in letters]\n",
    "        print (ret)\n",
    "    print (ret)\n",
    "    return ret"
   ]
  },
  {
   "cell_type": "code",
   "execution_count": 82,
   "metadata": {},
   "outputs": [
    {
     "name": "stdout",
     "output_type": "stream",
     "text": [
      "['a', 'b', 'c']\n",
      "['aa', 'ab', 'ac', 'ba', 'bb', 'bc', 'ca', 'cb', 'cc']\n",
      "['aad', 'aae', 'aaf', 'abd', 'abe', 'abf', 'acd', 'ace', 'acf', 'bad', 'bae', 'baf', 'bbd', 'bbe', 'bbf', 'bcd', 'bce', 'bcf', 'cad', 'cae', 'caf', 'cbd', 'cbe', 'cbf', 'ccd', 'cce', 'ccf']\n",
      "['aad', 'aae', 'aaf', 'abd', 'abe', 'abf', 'acd', 'ace', 'acf', 'bad', 'bae', 'baf', 'bbd', 'bbe', 'bbf', 'bcd', 'bce', 'bcf', 'cad', 'cae', 'caf', 'cbd', 'cbe', 'cbf', 'ccd', 'cce', 'ccf']\n"
     ]
    },
    {
     "data": {
      "text/plain": [
       "['aad',\n",
       " 'aae',\n",
       " 'aaf',\n",
       " 'abd',\n",
       " 'abe',\n",
       " 'abf',\n",
       " 'acd',\n",
       " 'ace',\n",
       " 'acf',\n",
       " 'bad',\n",
       " 'bae',\n",
       " 'baf',\n",
       " 'bbd',\n",
       " 'bbe',\n",
       " 'bbf',\n",
       " 'bcd',\n",
       " 'bce',\n",
       " 'bcf',\n",
       " 'cad',\n",
       " 'cae',\n",
       " 'caf',\n",
       " 'cbd',\n",
       " 'cbe',\n",
       " 'cbf',\n",
       " 'ccd',\n",
       " 'cce',\n",
       " 'ccf']"
      ]
     },
     "execution_count": 82,
     "metadata": {},
     "output_type": "execute_result"
    }
   ],
   "source": [
    "word_numbers2(223)"
   ]
  },
  {
   "cell_type": "code",
   "execution_count": 20,
   "metadata": {},
   "outputs": [
    {
     "name": "stdout",
     "output_type": "stream",
     "text": [
      "['33', '53', '73']\n"
     ]
    }
   ],
   "source": [
    "anas_array = [\"3\",\"5\",\"7\"]\n",
    "new = [x + \"3\" for x in anas_array]\n",
    "print (new)"
   ]
  },
  {
   "cell_type": "code",
   "execution_count": null,
   "metadata": {},
   "outputs": [],
   "source": []
  }
 ],
 "metadata": {
  "kernelspec": {
   "display_name": "Python 3",
   "language": "python",
   "name": "python3"
  },
  "language_info": {
   "codemirror_mode": {
    "name": "ipython",
    "version": 3
   },
   "file_extension": ".py",
   "mimetype": "text/x-python",
   "name": "python",
   "nbconvert_exporter": "python",
   "pygments_lexer": "ipython3",
   "version": "3.6.4"
  }
 },
 "nbformat": 4,
 "nbformat_minor": 2
}
