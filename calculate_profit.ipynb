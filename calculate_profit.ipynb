{
 "cells": [
  {
   "cell_type": "code",
   "execution_count": null,
   "metadata": {},
   "outputs": [],
   "source": [
    "'''\n",
    "# You work for a manufacturer, and have been asked \n",
    "# to calculate the total profit made on the sales \n",
    "# of a product. You are given a dictionary containing\n",
    "# the cost price per unit (in dollars), sell price per \n",
    "# unit (in dollars), and the starting inventory. \n",
    "# Return the total profit made, rounded to the nearest\n",
    "# dollar. Assume all of the inventory has been sold.\n",
    "'''\n",
    "\n",
    "def profit(info):\n",
    "    # determine profit per sale by subtracting cost price from sall price\n",
    "    profit_per_sale = info[\"sell_price\"] - info[\"cost_price\"] \n",
    "    # multiply the number of units in the inventory with the profit_per_sale\n",
    "    profit_total = profit_per_sale * info[\"inventory\"]\n",
    "    # round the number to meet the request of the question\n",
    "    profit_total = round(profit_total)\n",
    "    # print total profit\n",
    "    print(profit_total)\n",
    "    # return the profit value and exit the function\n",
    "    return profit_total\n",
    "\n",
    "\n",
    "profit({ \"cost_price\": 32.67, \"sell_price\": 45.00, \"inventory\": 1200}) \n",
    "# ➞ 14796\n",
    "\n",
    "profit({ \"cost_price\": 225.89, \"sell_price\": 550.00, \"inventory\": 100}) \n",
    "# ➞ 32411\n",
    "\n",
    "profit({ \"cost_price\": 2.77, \"sell_price\": 7.95, \"inventory\": 8500}) \n",
    "# ➞ 44030"
   ]
  }
 ],
 "metadata": {
  "kernelspec": {
   "display_name": "Python 3",
   "language": "python",
   "name": "python3"
  },
  "language_info": {
   "codemirror_mode": {
    "name": "ipython",
    "version": 3
   },
   "file_extension": ".py",
   "mimetype": "text/x-python",
   "name": "python",
   "nbconvert_exporter": "python",
   "pygments_lexer": "ipython3",
   "version": "3.6.4"
  }
 },
 "nbformat": 4,
 "nbformat_minor": 2
}
