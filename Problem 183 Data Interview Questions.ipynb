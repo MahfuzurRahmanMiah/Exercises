{
 "cells": [
  {
   "cell_type": "markdown",
   "metadata": {},
   "source": [
    "Suppose you're given an array of integers. Write code to find the first repeating element in the array.\n",
    "\n",
    "For example:\n",
    "\n",
    "Input: array = [10, 2, -2, -20, 10] \n",
    "Output: 10\n",
    "\n",
    "Input: array = [9, 4, 20, 20, 10, 5]\n",
    "Output: 20\n",
    "If there are no duplicates, you can return -1."
   ]
  },
  {
   "cell_type": "code",
   "execution_count": 6,
   "metadata": {},
   "outputs": [],
   "source": [
    "# let's make a function that returns the first repeated value in a list given an array of numbers\n",
    "def repeatnum (array):\n",
    "    dummycounter = []\n",
    "    for x in array:\n",
    "        if x in dummycounter:\n",
    "            print (\"First repeating element is: \",x,\".\")\n",
    "            return x\n",
    "        dummycounter.extend([x])\n",
    "    print (\"There are no duplicates\")\n",
    "    return -1"
   ]
  },
  {
   "cell_type": "code",
   "execution_count": 7,
   "metadata": {},
   "outputs": [
    {
     "name": "stdout",
     "output_type": "stream",
     "text": [
      "There are no duplicates\n"
     ]
    },
    {
     "data": {
      "text/plain": [
       "-1"
      ]
     },
     "execution_count": 7,
     "metadata": {},
     "output_type": "execute_result"
    }
   ],
   "source": [
    "test1 = [9, 4, 20, 30, 10, 5]\n",
    "repeatnum (test1)"
   ]
  },
  {
   "cell_type": "code",
   "execution_count": 10,
   "metadata": {},
   "outputs": [
    {
     "name": "stdout",
     "output_type": "stream",
     "text": [
      "First repeating element is:  20 .\n"
     ]
    },
    {
     "data": {
      "text/plain": [
       "20"
      ]
     },
     "execution_count": 10,
     "metadata": {},
     "output_type": "execute_result"
    }
   ],
   "source": [
    "test2 = [9, 4, 20, 5, 6, 3, 20, 10, 5]\n",
    "repeatnum (test2)"
   ]
  },
  {
   "cell_type": "code",
   "execution_count": 9,
   "metadata": {},
   "outputs": [
    {
     "name": "stdout",
     "output_type": "stream",
     "text": [
      "First repeating element is:  20 .\n"
     ]
    },
    {
     "data": {
      "text/plain": [
       "20"
      ]
     },
     "execution_count": 9,
     "metadata": {},
     "output_type": "execute_result"
    }
   ],
   "source": [
    "test2 = [9, 4, 20, 20, 10, 5, 10, 30]\n",
    "repeatnum (test2)"
   ]
  },
  {
   "cell_type": "code",
   "execution_count": 14,
   "metadata": {},
   "outputs": [],
   "source": [
    "# let's make a function that returns all values that have repeats in an array of numbers\n",
    "def showrepeats (array):\n",
    "    dummycounter = []\n",
    "    listOfRepeats = []\n",
    "    for x in array:\n",
    "        if x in dummycounter:\n",
    "            listOfRepeats.extend([x])\n",
    "        dummycounter.extend([x])\n",
    "    if len(listOfRepeats) > 0:\n",
    "        print (\"List of repeating elements are: \", listOfRepeats)\n",
    "        return listOfRepeats\n",
    "    print (\"There are no duplicates\")\n",
    "    return -1"
   ]
  },
  {
   "cell_type": "code",
   "execution_count": 15,
   "metadata": {},
   "outputs": [
    {
     "name": "stdout",
     "output_type": "stream",
     "text": [
      "List of repeating elements are:  [20, 10, 30]\n"
     ]
    },
    {
     "data": {
      "text/plain": [
       "[20, 10, 30]"
      ]
     },
     "execution_count": 15,
     "metadata": {},
     "output_type": "execute_result"
    }
   ],
   "source": [
    "test3 = [9, 4, 20, 20, 10, 5, 10, 30, 30]\n",
    "showrepeats(test3)"
   ]
  },
  {
   "cell_type": "code",
   "execution_count": 16,
   "metadata": {},
   "outputs": [
    {
     "name": "stdout",
     "output_type": "stream",
     "text": [
      "There are no duplicates\n"
     ]
    },
    {
     "data": {
      "text/plain": [
       "-1"
      ]
     },
     "execution_count": 16,
     "metadata": {},
     "output_type": "execute_result"
    }
   ],
   "source": [
    "test3 = [9, 4, 24, 20, 11, 5, 10, 32, 30]\n",
    "showrepeats(test3)"
   ]
  },
  {
   "cell_type": "code",
   "execution_count": null,
   "metadata": {},
   "outputs": [],
   "source": []
  }
 ],
 "metadata": {
  "kernelspec": {
   "display_name": "Python 3",
   "language": "python",
   "name": "python3"
  },
  "language_info": {
   "codemirror_mode": {
    "name": "ipython",
    "version": 3
   },
   "file_extension": ".py",
   "mimetype": "text/x-python",
   "name": "python",
   "nbconvert_exporter": "python",
   "pygments_lexer": "ipython3",
   "version": "3.6.4"
  }
 },
 "nbformat": 4,
 "nbformat_minor": 2
}
