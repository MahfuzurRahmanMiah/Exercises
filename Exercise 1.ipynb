{
 "cells": [
  {
   "cell_type": "markdown",
   "metadata": {},
   "source": [
    "Suppose you're given an array of n elements. Within this array, return the greatest value of a single element that is the product of two elements contained within the same array. If no such product exists, print N/A. Lastly, you can assume that the values within the array are positive integers.\n",
    "\n",
    "For example:\n",
    "\n",
    "Input: array = [2, 2, 4, 5, 9] \n",
    "Output: 4 #(since 2 * 2 = 4)\n",
    "\n",
    "Input: array = [1, 3, 4, 7, 10] \n",
    "Output: 3 #(since 1 * 3 = 3)\n",
    "\n",
    "Input: array = [3, 3, 4, 7, 10] \n",
    "Output: N/A"
   ]
  },
  {
   "cell_type": "code",
   "execution_count": 79,
   "metadata": {},
   "outputs": [],
   "source": [
    "# Attempt one with for loops\n",
    "\n",
    "def gproduct(array):\n",
    "    newarray = array.copy()\n",
    "    newarray.sort()\n",
    "#     print (newarray)\n",
    "    revarray = array.copy()\n",
    "    revarray.sort(reverse = True)\n",
    "#     print (revarray)\n",
    "    for z in revarray:\n",
    "#         print(\"z is \",z)\n",
    "        for x in newarray:\n",
    "#             print(\"x is \",x)\n",
    "            y = z/x\n",
    "#             print (\"y = \", y)\n",
    "#             print (newarray)\n",
    "            if y in newarray:\n",
    "                print(\"the greatest value of a single element that is the product of two elements contained within this array is \",z)\n",
    "                return z\n",
    "    print (\"NA\")"
   ]
  },
  {
   "cell_type": "code",
   "execution_count": 80,
   "metadata": {},
   "outputs": [
    {
     "name": "stdout",
     "output_type": "stream",
     "text": [
      "the greatest value of a single element that is the product of two elements contained within this array is  4\n"
     ]
    },
    {
     "data": {
      "text/plain": [
       "4"
      ]
     },
     "execution_count": 80,
     "metadata": {},
     "output_type": "execute_result"
    }
   ],
   "source": [
    "array = [2, 2, 4, 5, 9] \n",
    "gproduct(array)"
   ]
  },
  {
   "cell_type": "code",
   "execution_count": 81,
   "metadata": {},
   "outputs": [
    {
     "name": "stdout",
     "output_type": "stream",
     "text": [
      "the greatest value of a single element that is the product of two elements contained within this array is  10\n",
      "NA\n"
     ]
    }
   ],
   "source": [
    "array1 = [1, 3, 4, 7, 10] \n",
    "array2 = [3, 3, 4, 7, 10] \n",
    "gproduct(array1)\n",
    "gproduct(array2)"
   ]
  },
  {
   "cell_type": "code",
   "execution_count": 105,
   "metadata": {},
   "outputs": [],
   "source": [
    "# Attempt two without imbedded for loops\n",
    "\n",
    "def gproduct2(array):\n",
    "    array.sort(reverse = True)\n",
    "    for num in array:\n",
    "        tmp_list = [num/x for x in array]\n",
    "        if len(set(tmp_list).intersection(array)) > 0:\n",
    "            print (num)\n",
    "            return num\n",
    "    print (\"NA\")\n",
    "    return"
   ]
  },
  {
   "cell_type": "code",
   "execution_count": 111,
   "metadata": {},
   "outputs": [
    {
     "name": "stdout",
     "output_type": "stream",
     "text": [
      "4\n",
      "10\n",
      "NA\n"
     ]
    }
   ],
   "source": [
    "gproduct2(array)\n",
    "gproduct2(array1)\n",
    "gproduct2(array2)"
   ]
  },
  {
   "cell_type": "code",
   "execution_count": null,
   "metadata": {},
   "outputs": [],
   "source": []
  },
  {
   "cell_type": "code",
   "execution_count": null,
   "metadata": {},
   "outputs": [],
   "source": []
  }
 ],
 "metadata": {
  "kernelspec": {
   "display_name": "Python 3",
   "language": "python",
   "name": "python3"
  },
  "language_info": {
   "codemirror_mode": {
    "name": "ipython",
    "version": 3
   },
   "file_extension": ".py",
   "mimetype": "text/x-python",
   "name": "python",
   "nbconvert_exporter": "python",
   "pygments_lexer": "ipython3",
   "version": "3.6.4"
  }
 },
 "nbformat": 4,
 "nbformat_minor": 2
}
