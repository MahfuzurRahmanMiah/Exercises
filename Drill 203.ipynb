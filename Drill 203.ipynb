{
 "cells": [
  {
   "cell_type": "markdown",
   "metadata": {},
   "source": [
    "Suppose you're given an unsorted array, a. The array is intended to have all integer elements between its minimum and maximum, but could be missing some elements. Write a python function to find the n-th missing element in the array.\n",
    "\n",
    "Consider the array in sorted order, then find the n-th missing number. If the n-th missing number does not exist, you can output 'Does not exist'.\n",
    "\n",
    "Examples:\n",
    "\n",
    "Input: a = [2, 3, 11, 9], n = 3\n",
    "Output: 6\n",
    "Missing elements in array: [4, 5, 6, 7, 8, 10]. So, the 3rd missing element is 6.\n",
    "\n",
    "\n",
    "Input: a = [2, 3, 5], n = 5\n",
    "Output: 'Does not exist'\n",
    "Since there is no 5th missing element in the array, we output 'Does not exist' (the only missing element here is 4).\n",
    "\n"
   ]
  },
  {
   "cell_type": "code",
   "execution_count": 13,
   "metadata": {},
   "outputs": [],
   "source": [
    "def nArray (a, n):\n",
    "    # sort the list a\n",
    "    a.sort()\n",
    "    print(\"sorted list a = \", a)\n",
    "    \n",
    "    # make new list starting with first item of list and ending with last item on list\n",
    "    newlist = list(range(a[0],(a[-1] + 1)))\n",
    "    print(\"newlist = \", newlist)\n",
    "    \n",
    "    # make list of missing values\n",
    "    missingvalues = Diff(newlist,a)\n",
    "    print(\"missingvalues = \", missingvalues)\n",
    "    \n",
    "    # make sure to exit program if n doesn't exist in list of missing values\n",
    "    if n > len(missingvalues):\n",
    "        print(\"Does not exist\")\n",
    "        return\n",
    "    \n",
    "    # returns the n-th term in the list of missing values\n",
    "    print (\"Output = \", missingvalues[n-1])\n",
    "    return\n",
    "    \n",
    "    \n",
    "# find diff between two lists\n",
    "def Diff(li1, li2): \n",
    "    return (list(set(li1) - set(li2))) \n"
   ]
  },
  {
   "cell_type": "code",
   "execution_count": 15,
   "metadata": {},
   "outputs": [
    {
     "name": "stdout",
     "output_type": "stream",
     "text": [
      "sorted list a =  [2, 3, 9, 11, 23, 34, 56]\n",
      "newlist =  [2, 3, 4, 5, 6, 7, 8, 9, 10, 11, 12, 13, 14, 15, 16, 17, 18, 19, 20, 21, 22, 23, 24, 25, 26, 27, 28, 29, 30, 31, 32, 33, 34, 35, 36, 37, 38, 39, 40, 41, 42, 43, 44, 45, 46, 47, 48, 49, 50, 51, 52, 53, 54, 55, 56]\n",
      "missingvalues =  [4, 5, 6, 7, 8, 10, 12, 13, 14, 15, 16, 17, 18, 19, 20, 21, 22, 24, 25, 26, 27, 28, 29, 30, 31, 32, 33, 35, 36, 37, 38, 39, 40, 41, 42, 43, 44, 45, 46, 47, 48, 49, 50, 51, 52, 53, 54, 55]\n",
      "Output =  15\n"
     ]
    }
   ],
   "source": [
    "a = [2, 3, 11, 9, 34, 56, 23]\n",
    "n = 10\n",
    "nArray (a,n)"
   ]
  },
  {
   "cell_type": "code",
   "execution_count": 16,
   "metadata": {},
   "outputs": [
    {
     "name": "stdout",
     "output_type": "stream",
     "text": [
      "sorted list a =  [2, 3, 5]\n",
      "newlist =  [2, 3, 4, 5]\n",
      "missingvalues =  [4]\n",
      "Does not exist\n"
     ]
    }
   ],
   "source": [
    "a = [2, 3, 5]\n",
    "n = 5\n",
    "nArray (a,n)"
   ]
  },
  {
   "cell_type": "code",
   "execution_count": null,
   "metadata": {},
   "outputs": [],
   "source": []
  },
  {
   "cell_type": "code",
   "execution_count": null,
   "metadata": {},
   "outputs": [],
   "source": []
  }
 ],
 "metadata": {
  "kernelspec": {
   "display_name": "Python 3",
   "language": "python",
   "name": "python3"
  },
  "language_info": {
   "codemirror_mode": {
    "name": "ipython",
    "version": 3
   },
   "file_extension": ".py",
   "mimetype": "text/x-python",
   "name": "python",
   "nbconvert_exporter": "python",
   "pygments_lexer": "ipython3",
   "version": "3.6.4"
  }
 },
 "nbformat": 4,
 "nbformat_minor": 2
}
